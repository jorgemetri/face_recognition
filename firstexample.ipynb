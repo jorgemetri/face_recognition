{
 "cells": [
  {
   "cell_type": "markdown",
   "metadata": {},
   "source": [
    "###  Simple face Recognition"
   ]
  },
  {
   "cell_type": "code",
   "execution_count": 1,
   "metadata": {},
   "outputs": [],
   "source": [
    "import cv2\n",
    "import face_recognition"
   ]
  },
  {
   "cell_type": "markdown",
   "metadata": {},
   "source": [
    "Iremos agora mostrar como que fazemos para baixar uma imagem para ser exibida através da biblioteca open-cv."
   ]
  },
  {
   "cell_type": "code",
   "execution_count": 4,
   "metadata": {},
   "outputs": [
    {
     "name": "stderr",
     "output_type": "stream",
     "text": [
      "<>:1: SyntaxWarning: invalid escape sequence '\\m'\n",
      "<>:7: SyntaxWarning: invalid escape sequence '\\E'\n",
      "<>:1: SyntaxWarning: invalid escape sequence '\\m'\n",
      "<>:7: SyntaxWarning: invalid escape sequence '\\E'\n",
      "C:\\Users\\jorge\\AppData\\Local\\Temp\\ipykernel_1016\\715911497.py:1: SyntaxWarning: invalid escape sequence '\\m'\n",
      "  img = cv2.imread(\"images\\messi.jpg\")\n",
      "C:\\Users\\jorge\\AppData\\Local\\Temp\\ipykernel_1016\\715911497.py:7: SyntaxWarning: invalid escape sequence '\\E'\n",
      "  img2 = cv2.imread(\"images\\Elon-Musk.webp\")\n"
     ]
    },
    {
     "name": "stdout",
     "output_type": "stream",
     "text": [
      "Result: [False]\n"
     ]
    },
    {
     "data": {
      "text/plain": [
       "-1"
      ]
     },
     "execution_count": 4,
     "metadata": {},
     "output_type": "execute_result"
    }
   ],
   "source": [
    "img = cv2.imread(\"images\\messi.jpg\")\n",
    "\n",
    "rgb_img = cv2.cvtColor(img,cv2.COLOR_BGR2RGB)\n",
    "\n",
    "img_encoding = face_recognition.face_encodings(rgb_img)[0]\n",
    "\n",
    "img2 = cv2.imread(\"images\\lionel-messi.webp\")\n",
    "\n",
    "rgb_img2 = cv2.cvtColor(img2,cv2.COLOR_BGR2RGB)\n",
    "\n",
    "img_encoding2 = face_recognition.face_encodings(rgb_img2)[0]\n",
    "\n",
    "#### Quermos comparar se as duas imagens são iguais\n",
    "result = face_recognition.compare_faces([img_encoding],img_encoding2)\n",
    "print(\"Result:\",result)\n",
    "\n",
    "\n",
    "cv2.imshow(\"Img\",img)\n",
    "cv2.imshow(\"Img 2\",img2)\n",
    "cv2.waitKey(0)"
   ]
  },
  {
   "cell_type": "code",
   "execution_count": 3,
   "metadata": {},
   "outputs": [
    {
     "name": "stdout",
     "output_type": "stream",
     "text": [
      "Erro ao carregar a imagem: Elon-Musk.webp\n"
     ]
    }
   ],
   "source": [
    "import cv2\n",
    "import face_recognition\n",
    "\n",
    "# Carregar a primeira imagem\n",
    "img_path1 = \"images\\\\messi.jpg\"\n",
    "img = cv2.imread(img_path1)\n",
    "\n",
    "if img is None:\n",
    "    print(f\"Erro ao carregar a imagem: {img_path1}\")\n",
    "else:\n",
    "    rgb_img = cv2.cvtColor(img, cv2.COLOR_BGR2RGB)\n",
    "    img_encoding = face_recognition.face_encodings(rgb_img)[0]\n",
    "\n",
    "# Carregar a segunda imagem\n",
    "img_path2 = \"Elon-Musk.webp\"\n",
    "img2 = cv2.imread(img_path2)\n",
    "\n",
    "if img2 is None:\n",
    "    print(f\"Erro ao carregar a imagem: {img_path2}\")\n",
    "else:\n",
    "    rgb_img2 = cv2.cvtColor(img2, cv2.COLOR_BGR2RGB)\n",
    "    img_encoding2 = face_recognition.face_encodings(rgb_img2)[0]\n",
    "\n",
    "    # Comparar as duas imagens\n",
    "    result = face_recognition.compare_faces([img_encoding], img_encoding2)\n",
    "    print(\"Result:\", result)\n",
    "\n",
    "    # Mostrar as imagens\n",
    "    cv2.imshow(\"Img\", img)\n",
    "    cv2.imshow(\"Img 2\", img2)\n",
    "    cv2.waitKey(0)\n"
   ]
  }
 ],
 "metadata": {
  "kernelspec": {
   "display_name": "Python 3",
   "language": "python",
   "name": "python3"
  },
  "language_info": {
   "codemirror_mode": {
    "name": "ipython",
    "version": 3
   },
   "file_extension": ".py",
   "mimetype": "text/x-python",
   "name": "python",
   "nbconvert_exporter": "python",
   "pygments_lexer": "ipython3",
   "version": "3.12.4"
  }
 },
 "nbformat": 4,
 "nbformat_minor": 2
}
